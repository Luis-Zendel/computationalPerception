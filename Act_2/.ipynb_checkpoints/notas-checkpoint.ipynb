{
 "cells": [
  {
   "cell_type": "markdown",
   "metadata": {},
   "source": [
    "## Equalización \n"
   ]
  },
  {
   "cell_type": "code",
   "execution_count": 2,
   "metadata": {},
   "outputs": [],
   "source": [
    "import cv2 as cv\n",
    "img = cv.imread('coche11.jpeg')\n",
    "b,g,r = cv.split(img)\n",
    "b_eq = cv.equalizeHist(b)\n",
    "g_eq = cv.equalizeHist(g)\n",
    "r_eq = cv.equalizeHist(r)\n",
    "img_eq = cv.merge((b_eq, g_eq, r_eq))\n",
    "cv.imshow('Equalizada', img_eq)\n"
   ]
  }
 ],
 "metadata": {
  "kernelspec": {
   "display_name": "Python 3",
   "language": "python",
   "name": "python3"
  },
  "language_info": {
   "codemirror_mode": {
    "name": "ipython",
    "version": 3
   },
   "file_extension": ".py",
   "mimetype": "text/x-python",
   "name": "python",
   "nbconvert_exporter": "python",
   "pygments_lexer": "ipython3",
   "version": "3.12.1"
  }
 },
 "nbformat": 4,
 "nbformat_minor": 2
}

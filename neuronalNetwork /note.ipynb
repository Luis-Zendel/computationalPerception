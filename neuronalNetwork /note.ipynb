{
 "cells": [
  {
   "cell_type": "code",
   "execution_count": null,
   "metadata": {},
   "outputs": [],
   "source": []
  },
  {
   "cell_type": "markdown",
   "metadata": {},
   "source": [
    "## Deep learning \n",
    "Based on neural networks "
   ]
  },
  {
   "cell_type": "code",
   "execution_count": 41,
   "metadata": {},
   "outputs": [],
   "source": [
    "import torch \n",
    "import torch.nn as nn \n",
    "import torch.optim as optim \n",
    "import torchvision\n",
    "import torchvision.transforms as transforms \n",
    "\n",
    "\n",
    "transform = transforms.Compose([transforms.ToTensor(), transforms.Normalize((0.5), (0.5))])"
   ]
  },
  {
   "cell_type": "markdown",
   "metadata": {},
   "source": [
    "# Transformación\n",
    "Nota se debe transformar y normalizar ya que pytorch requiere que todos los datos se encuentren en forma de tensores. Para realizar operaciones de cálculo automático de gradientes y aprovechar el procesamiento de la GPU. \n",
    "(Apple a diseñado el m1 para que tenga un buen rendimineto pytorch y pueda usar la gpu integrada).\n",
    "\n",
    "Al transformar la imagén en tensor convierte las imagenes de PIL o arrays NumPy en Tensores. Y cambia los valores de rango [0,255] a [0.0,1.0] Para facilitar la manipulación numerica. \n",
    "\n",
    "# Normalización \n",
    "Estabiliza el entrenamiento para que se puedan entrenar mejor la redes neuronales y mucho más rapido. Normalizar los datos a un rango común ayuda a que la función de pérdida sea más suave y facilita la optimización\n",
    "Para una convergencía más rapida\n",
    "Mejora el rendimiento"
   ]
  },
  {
   "cell_type": "code",
   "execution_count": 42,
   "metadata": {},
   "outputs": [],
   "source": [
    "# Descarga el conjunto de datos de entrenamiento\n",
    "trainset = torchvision.datasets.MNIST(root='./data', train=True, download=True, transform=transform)\n",
    "trainloader = torch.utils.data.DataLoader(trainset, batch_size=64, shuffle=True)\n",
    "\n",
    "\n",
    "# Descargar y cargar el conjunto de datos de prueba\n",
    "testset = torchvision.datasets.MNIST(root='./data', train=False, download=True, transform=transform)\n",
    "testloader = torch.utils.data.DataLoader(testset, batch_size=64, shuffle=False)\n",
    "\n",
    "class SimpleNN(nn.Module):\n",
    "    def __init__(self):\n",
    "        super(SimpleNN, self).__init__()\n",
    "        self.fc1 = nn.Linear(28*28, 128) # Capa oculta con 128 neuronas \n",
    "        self.fc2 = nn.Linear(128,10) # Capa de salida con 10 neuronas una por dígito. \n",
    "\n",
    "    def forward(self, x):\n",
    "        x = x.view(-1, 28 * 28)  # Este comando asume que `x` es un tensor\n",
    "        x = torch.relu(self.fc1(x))\n",
    "        x = self.fc2(x)\n",
    "        return x\n",
    "\n"
   ]
  },
  {
   "cell_type": "markdown",
   "metadata": {},
   "source": [
    "Definición del sistema de red neuronal con su clase de inicialización y la función foward "
   ]
  },
  {
   "cell_type": "code",
   "execution_count": 43,
   "metadata": {},
   "outputs": [
    {
     "name": "stdout",
     "output_type": "stream",
     "text": [
      "[Epoch 1, Lote 100] pérdida: 0.984\n",
      "[Epoch 1, Lote 200] pérdida: 0.401\n",
      "[Epoch 1, Lote 300] pérdida: 0.374\n",
      "[Epoch 1, Lote 400] pérdida: 0.334\n",
      "[Epoch 1, Lote 500] pérdida: 0.302\n",
      "[Epoch 1, Lote 600] pérdida: 0.285\n",
      "[Epoch 1, Lote 700] pérdida: 0.261\n",
      "[Epoch 1, Lote 800] pérdida: 0.240\n",
      "[Epoch 1, Lote 900] pérdida: 0.243\n",
      "[Epoch 2, Lote 100] pérdida: 0.217\n",
      "[Epoch 2, Lote 200] pérdida: 0.196\n",
      "[Epoch 2, Lote 300] pérdida: 0.205\n",
      "[Epoch 2, Lote 400] pérdida: 0.176\n",
      "[Epoch 2, Lote 500] pérdida: 0.175\n",
      "[Epoch 2, Lote 600] pérdida: 0.166\n",
      "[Epoch 2, Lote 700] pérdida: 0.166\n",
      "[Epoch 2, Lote 800] pérdida: 0.170\n",
      "[Epoch 2, Lote 900] pérdida: 0.163\n",
      "[Epoch 3, Lote 100] pérdida: 0.141\n",
      "[Epoch 3, Lote 200] pérdida: 0.133\n",
      "[Epoch 3, Lote 300] pérdida: 0.130\n",
      "[Epoch 3, Lote 400] pérdida: 0.137\n",
      "[Epoch 3, Lote 500] pérdida: 0.132\n",
      "[Epoch 3, Lote 600] pérdida: 0.126\n",
      "[Epoch 3, Lote 700] pérdida: 0.128\n",
      "[Epoch 3, Lote 800] pérdida: 0.127\n",
      "[Epoch 3, Lote 900] pérdida: 0.122\n",
      "[Epoch 4, Lote 100] pérdida: 0.109\n",
      "[Epoch 4, Lote 200] pérdida: 0.106\n",
      "[Epoch 4, Lote 300] pérdida: 0.113\n",
      "[Epoch 4, Lote 400] pérdida: 0.101\n",
      "[Epoch 4, Lote 500] pérdida: 0.105\n",
      "[Epoch 4, Lote 600] pérdida: 0.106\n",
      "[Epoch 4, Lote 700] pérdida: 0.109\n",
      "[Epoch 4, Lote 800] pérdida: 0.098\n",
      "[Epoch 4, Lote 900] pérdida: 0.114\n",
      "[Epoch 5, Lote 100] pérdida: 0.100\n",
      "[Epoch 5, Lote 200] pérdida: 0.088\n",
      "[Epoch 5, Lote 300] pérdida: 0.098\n",
      "[Epoch 5, Lote 400] pérdida: 0.097\n",
      "[Epoch 5, Lote 500] pérdida: 0.081\n",
      "[Epoch 5, Lote 600] pérdida: 0.094\n",
      "[Epoch 5, Lote 700] pérdida: 0.077\n",
      "[Epoch 5, Lote 800] pérdida: 0.090\n",
      "[Epoch 5, Lote 900] pérdida: 0.080\n",
      "Entrenamiento terminado\n"
     ]
    }
   ],
   "source": [
    "# Definir función de perdida y optimizador \n",
    "\n",
    "net = SimpleNN()\n",
    "criterion = nn.CrossEntropyLoss()  # Función de pérdida para clasificación\n",
    "optimizer = optim.SGD(net.parameters(), lr=0.01, momentum=0.9)\n",
    "\n",
    "\n",
    "\n",
    "for epoch in range(5):  # Número de épocas (puedes ajustar este valor)\n",
    "    running_loss = 0.0\n",
    "    for i, data in enumerate(trainloader, 0):\n",
    "        inputs, labels = data\n",
    "        optimizer.zero_grad()  # Limpiar los gradientes de las épocas anteriores\n",
    "        outputs = net(inputs)  # Forward pass\n",
    "        loss = criterion(outputs, labels)  # Calcular la pérdida\n",
    "        loss.backward()  # Backpropagation\n",
    "        optimizer.step()  # Actualizar los pesos\n",
    "\n",
    "        running_loss += loss.item()\n",
    "        if i % 100 == 99:  # Imprimir estadísticas cada 100 lotes\n",
    "            print(f'[Epoch {epoch + 1}, Lote {i + 1}] pérdida: {running_loss / 100:.3f}')\n",
    "            running_loss = 0.0\n",
    "\n",
    "print('Entrenamiento terminado')\n"
   ]
  },
  {
   "cell_type": "markdown",
   "metadata": {},
   "source": [
    "A continucación se hace la evaluación de la red neuronal \n"
   ]
  },
  {
   "cell_type": "code",
   "execution_count": 44,
   "metadata": {},
   "outputs": [
    {
     "name": "stdout",
     "output_type": "stream",
     "text": [
      "Precisión en el conjunto de prueba: 97.23%\n"
     ]
    }
   ],
   "source": [
    "correct = 0\n",
    "total = 0\n",
    "with torch.no_grad():\n",
    "    for data in testloader:\n",
    "        images, labels = data\n",
    "        outputs = net(images)\n",
    "        _, predicted = torch.max(outputs.data, 1)\n",
    "        total += labels.size(0)\n",
    "        correct += (predicted == labels).sum().item()\n",
    "\n",
    "print(f'Precisión en el conjunto de prueba: {100 * correct / total:.2f}%')\n"
   ]
  }
 ],
 "metadata": {
  "kernelspec": {
   "display_name": "Python 3",
   "language": "python",
   "name": "python3"
  },
  "language_info": {
   "codemirror_mode": {
    "name": "ipython",
    "version": 3
   },
   "file_extension": ".py",
   "mimetype": "text/x-python",
   "name": "python",
   "nbconvert_exporter": "python",
   "pygments_lexer": "ipython3",
   "version": "3.12.1"
  }
 },
 "nbformat": 4,
 "nbformat_minor": 2
}
